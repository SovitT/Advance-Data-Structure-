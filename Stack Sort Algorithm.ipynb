{
 "cells": [
  {
   "cell_type": "markdown",
   "id": "8f596e12-9be9-4ef7-b0cd-653859ce2fc4",
   "metadata": {},
   "source": [
    "# Stack Sort Algorithm"
   ]
  },
  {
   "cell_type": "code",
   "execution_count": 16,
   "id": "2daac480-32da-4614-89c4-62a977d85d90",
   "metadata": {},
   "outputs": [
    {
     "name": "stdout",
     "output_type": "stream",
     "text": [
      "Original Stack: [34, 12, 84, 26]\n",
      "Sorted Stack: [12, 26, 34, 84]\n"
     ]
    }
   ],
   "source": [
    "class Stack:\n",
    "    def __init__(self):\n",
    "        self.items = []\n",
    "    \n",
    "    def push(self, item):\n",
    "        self.items.append(item)\n",
    "    \n",
    "    def pop(self):\n",
    "        if not self.is_empty():\n",
    "            return self.items.pop()\n",
    "        return None\n",
    "    \n",
    "    def is_empty(self):\n",
    "        return len(self.items) == 0\n",
    "    \n",
    "    def size(self):\n",
    "        return len(self.items)\n",
    "\n",
    "def sorted_insert(stack, element):\n",
    "    if stack.is_empty() or element > stack.items[-1]:\n",
    "        stack.push(element)\n",
    "    else:\n",
    "        temp = stack.pop()\n",
    "        sorted_insert(stack, element)\n",
    "        stack.push(temp)\n",
    "\n",
    "def sort_stack(stack):\n",
    "    if not stack.is_empty():\n",
    "        temp = stack.pop()\n",
    "        sort_stack(stack)\n",
    "        sorted_insert(stack, temp)\n",
    "\n",
    "# Example usage\n",
    "stack = Stack()\n",
    "stack.push(34)\n",
    "stack.push(12)\n",
    "stack.push(84)\n",
    "stack.push(26)\n",
    "\n",
    "print(\"Original Stack:\", stack.items)\n",
    "sort_stack(stack)\n",
    "print(\"Sorted Stack:\", stack.items)"
   ]
  }
 ],
 "metadata": {
  "kernelspec": {
   "display_name": "Python 3 (ipykernel)",
   "language": "python",
   "name": "python3"
  },
  "language_info": {
   "codemirror_mode": {
    "name": "ipython",
    "version": 3
   },
   "file_extension": ".py",
   "mimetype": "text/x-python",
   "name": "python",
   "nbconvert_exporter": "python",
   "pygments_lexer": "ipython3",
   "version": "3.12.4"
  }
 },
 "nbformat": 4,
 "nbformat_minor": 5
}
