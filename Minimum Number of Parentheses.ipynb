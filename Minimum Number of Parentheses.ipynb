{
 "cells": [
  {
   "cell_type": "markdown",
   "id": "b648956d-e84c-436d-97cd-4a54f908e23c",
   "metadata": {},
   "source": [
    "# Minimum Number of Parentheses to Add"
   ]
  },
  {
   "cell_type": "code",
   "execution_count": 3,
   "id": "5ad929a5-03bf-4ba9-ac99-c1fb455dd9a2",
   "metadata": {},
   "outputs": [
    {
     "name": "stdout",
     "output_type": "stream",
     "text": [
      "1\n",
      "3\n",
      "0\n",
      "2\n"
     ]
    }
   ],
   "source": [
    "def min_add_to_make_valid(s):\n",
    "    open_needed = 0\n",
    "    close_needed = 0\n",
    "\n",
    "    for char in s:\n",
    "        if char == '(':\n",
    "            close_needed += 1  # We expect a ')' in future\n",
    "        elif char == ')':\n",
    "            if close_needed > 0:\n",
    "                close_needed -= 1  # We matched it!\n",
    "            else:\n",
    "                open_needed += 1  # No matching '(', so we need one\n",
    "\n",
    "    return open_needed + close_needed\n",
    "    \n",
    "print(min_add_to_make_valid(\"())\"))       # Output: 1\n",
    "print(min_add_to_make_valid(\"(((\"))       # Output: 3\n",
    "print(min_add_to_make_valid(\"()\"))        # Output: 0\n",
    "print(min_add_to_make_valid(\"(()))(\"))    # Output: 2"
   ]
  }
 ],
 "metadata": {
  "kernelspec": {
   "display_name": "Python 3 (ipykernel)",
   "language": "python",
   "name": "python3"
  },
  "language_info": {
   "codemirror_mode": {
    "name": "ipython",
    "version": 3
   },
   "file_extension": ".py",
   "mimetype": "text/x-python",
   "name": "python",
   "nbconvert_exporter": "python",
   "pygments_lexer": "ipython3",
   "version": "3.12.4"
  }
 },
 "nbformat": 4,
 "nbformat_minor": 5
}
