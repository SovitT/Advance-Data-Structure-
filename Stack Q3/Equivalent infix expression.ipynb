{
 "cells": [
  {
   "cell_type": "markdown",
   "id": "78d9e5d7-b7d1-4aec-b9f8-ef435c1a2b74",
   "metadata": {},
   "source": [
    "# convert a postfix expression to its equivalent infix expression"
   ]
  },
  {
   "cell_type": "code",
   "execution_count": 3,
   "id": "113fe3ff-de7a-43f8-abf7-a8b3a025e268",
   "metadata": {},
   "outputs": [
    {
     "name": "stdout",
     "output_type": "stream",
     "text": [
      "Infix expression: ((a+b)*c)\n"
     ]
    }
   ],
   "source": [
    "def is_operator(c):\n",
    "    return c in \"+-*/^\"\n",
    "\n",
    "def postfix_to_infix(postfix):\n",
    "    stack = []\n",
    "\n",
    "    for char in postfix:\n",
    "        if not is_operator(char):\n",
    "            stack.append(char)\n",
    "        else:\n",
    "            op2 = stack.pop()\n",
    "            op1 = stack.pop()\n",
    "            expr = f\"({op1}{char}{op2})\"\n",
    "            stack.append(expr)\n",
    "\n",
    "    return stack[0] if stack else \"\"\n",
    "\n",
    "postfix_expr = \"ab+c*\"\n",
    "print(\"Infix expression:\", postfix_to_infix(postfix_expr))\n"
   ]
  }
 ],
 "metadata": {
  "kernelspec": {
   "display_name": "Python 3 (ipykernel)",
   "language": "python",
   "name": "python3"
  },
  "language_info": {
   "codemirror_mode": {
    "name": "ipython",
    "version": 3
   },
   "file_extension": ".py",
   "mimetype": "text/x-python",
   "name": "python",
   "nbconvert_exporter": "python",
   "pygments_lexer": "ipython3",
   "version": "3.12.4"
  }
 },
 "nbformat": 4,
 "nbformat_minor": 5
}
