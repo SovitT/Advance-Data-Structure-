{
 "cells": [
  {
   "cell_type": "markdown",
   "id": "347f9180-591c-4810-a947-486ec14e766f",
   "metadata": {},
   "source": [
    "# equivalent prefix expression"
   ]
  },
  {
   "cell_type": "code",
   "execution_count": 3,
   "id": "06e886aa-afe2-4948-84a3-4d823dea2d87",
   "metadata": {},
   "outputs": [
    {
     "name": "stdout",
     "output_type": "stream",
     "text": [
      "Prefix expression: *+abc\n"
     ]
    }
   ],
   "source": [
    "def is_operator(c):\n",
    "    return c in \"+-*/^\"\n",
    "\n",
    "def postfix_to_prefix(postfix):\n",
    "    stack = []\n",
    "\n",
    "    for char in postfix:\n",
    "        if not is_operator(char):\n",
    "            stack.append(char)\n",
    "        else:\n",
    "            op2 = stack.pop()\n",
    "            op1 = stack.pop()\n",
    "            expr = char + op1 + op2\n",
    "            stack.append(expr)\n",
    "\n",
    "    return stack[0] if stack else \"\"\n",
    "\n",
    "postfix_expr = \"ab+c*\"\n",
    "print(\"Prefix expression:\", postfix_to_prefix(postfix_expr))"
   ]
  }
 ],
 "metadata": {
  "kernelspec": {
   "display_name": "Python 3 (ipykernel)",
   "language": "python",
   "name": "python3"
  },
  "language_info": {
   "codemirror_mode": {
    "name": "ipython",
    "version": 3
   },
   "file_extension": ".py",
   "mimetype": "text/x-python",
   "name": "python",
   "nbconvert_exporter": "python",
   "pygments_lexer": "ipython3",
   "version": "3.12.4"
  }
 },
 "nbformat": 4,
 "nbformat_minor": 5
}
