{
 "cells": [
  {
   "cell_type": "markdown",
   "id": "9cd02b23-a85b-401b-b34a-9fc529449a1a",
   "metadata": {},
   "source": [
    "# Implement multiple stacks using a single list."
   ]
  },
  {
   "cell_type": "code",
   "execution_count": 3,
   "id": "94f73f02-7b2b-4269-ac49-371eb59610d3",
   "metadata": {},
   "outputs": [
    {
     "name": "stdout",
     "output_type": "stream",
     "text": [
      "Popped from Stack 1: 10\n",
      "Popped from Stack 2: 200\n"
     ]
    }
   ],
   "source": [
    "class TwoStacks:\n",
    "    def __init__(self, size):\n",
    "        self.size = size\n",
    "        self.arr = [None] * size\n",
    "        self.top1 = -1\n",
    "        self.top2 = size\n",
    "\n",
    "    def push1(self, value):\n",
    "        if self.top1 + 1 < self.top2:\n",
    "            self.top1 += 1\n",
    "            self.arr[self.top1] = value\n",
    "        else:\n",
    "            print(\"Stack Overflow on Stack 1\")\n",
    "\n",
    "    def push2(self, value):\n",
    "        if self.top1 < self.top2 - 1:\n",
    "            self.top2 -= 1\n",
    "            self.arr[self.top2] = value\n",
    "        else:\n",
    "            print(\"Stack Overflow on Stack 2\")\n",
    "\n",
    "    def pop1(self):\n",
    "        if self.top1 >= 0:\n",
    "            val = self.arr[self.top1]\n",
    "            self.top1 -= 1\n",
    "            return val\n",
    "        else:\n",
    "            print(\"Stack Underflow on Stack 1\")\n",
    "            return None\n",
    "\n",
    "    def pop2(self):\n",
    "        if self.top2 < self.size:\n",
    "            val = self.arr[self.top2]\n",
    "            self.top2 += 1\n",
    "            return val\n",
    "        else:\n",
    "            print(\"Stack Underflow on Stack 2\")\n",
    "            return None\n",
    "\n",
    "stacks = TwoStacks(10)\n",
    "stacks.push1(5)\n",
    "stacks.push2(100)\n",
    "stacks.push1(10)\n",
    "stacks.push2(200)\n",
    "\n",
    "print(\"Popped from Stack 1:\", stacks.pop1())  \n",
    "print(\"Popped from Stack 2:\", stacks.pop2())  \n"
   ]
  }
 ],
 "metadata": {
  "kernelspec": {
   "display_name": "Python 3 (ipykernel)",
   "language": "python",
   "name": "python3"
  },
  "language_info": {
   "codemirror_mode": {
    "name": "ipython",
    "version": 3
   },
   "file_extension": ".py",
   "mimetype": "text/x-python",
   "name": "python",
   "nbconvert_exporter": "python",
   "pygments_lexer": "ipython3",
   "version": "3.12.4"
  }
 },
 "nbformat": 4,
 "nbformat_minor": 5
}
