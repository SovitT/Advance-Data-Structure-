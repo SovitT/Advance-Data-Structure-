{
 "cells": [
  {
   "cell_type": "markdown",
   "id": "625614dc-a3b8-48c4-b497-adbd9511d0ca",
   "metadata": {},
   "source": [
    "# Parentheses in a Long String"
   ]
  },
  {
   "cell_type": "code",
   "execution_count": 3,
   "id": "e85ee82a-448a-4283-a7b2-0007f0952c06",
   "metadata": {},
   "outputs": [
    {
     "name": "stdout",
     "output_type": "stream",
     "text": [
      "[(2, 6), (8, 12), (17, 21), (14, 22)]\n"
     ]
    }
   ],
   "source": [
    "def find_balanced_parentheses_positions(s):\n",
    "    stack = []\n",
    "    balanced_positions = []\n",
    "\n",
    "    for i, char in enumerate(s):\n",
    "        if char == '(':\n",
    "            stack.append(i)\n",
    "        elif char == ')':\n",
    "            if stack:\n",
    "                opening_index = stack.pop()\n",
    "                balanced_positions.append((opening_index, i))\n",
    "    \n",
    "    return balanced_positions\n",
    "s = \"a+(b*c)-(d/e)+(x+(y*z))\"\n",
    "print(find_balanced_parentheses_positions(s))"
   ]
  }
 ],
 "metadata": {
  "kernelspec": {
   "display_name": "Python 3 (ipykernel)",
   "language": "python",
   "name": "python3"
  },
  "language_info": {
   "codemirror_mode": {
    "name": "ipython",
    "version": 3
   },
   "file_extension": ".py",
   "mimetype": "text/x-python",
   "name": "python",
   "nbconvert_exporter": "python",
   "pygments_lexer": "ipython3",
   "version": "3.12.4"
  }
 },
 "nbformat": 4,
 "nbformat_minor": 5
}
