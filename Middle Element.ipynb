{
 "cells": [
  {
   "cell_type": "markdown",
   "id": "fab7a83c-bde0-46f0-ada2-66f122b57261",
   "metadata": {},
   "source": [
    "# Stack that Supports Getting the Middle Element"
   ]
  },
  {
   "cell_type": "code",
   "execution_count": 4,
   "id": "d7d8e905-9a0c-443f-991e-068a67290a32",
   "metadata": {},
   "outputs": [
    {
     "name": "stdout",
     "output_type": "stream",
     "text": [
      "Undo: Action 3\n",
      "Undo: Action 2\n",
      "Redo: Action 2\n",
      "Redo: None\n",
      "Middle Element: 30\n"
     ]
    }
   ],
   "source": [
    "class Stack:\n",
    "    def __init__(self):\n",
    "        self.items = []\n",
    "    \n",
    "    def push(self, item):\n",
    "        self.items.append(item)\n",
    "    \n",
    "    def pop(self):\n",
    "        if not self.is_empty():\n",
    "            return self.items.pop()\n",
    "        return None\n",
    "    \n",
    "    def is_empty(self):\n",
    "        return len(self.items) == 0\n",
    "    \n",
    "    def size(self):\n",
    "        return len(self.items)\n",
    "\n",
    "    def get_middle(self):\n",
    "        if self.is_empty():\n",
    "            return None\n",
    "        middle_index = (len(self.items) - 1) // 2\n",
    "        return self.items[middle_index]\n",
    "\n",
    "class UndoRedo:\n",
    "    def __init__(self):\n",
    "        self.undo_stack = Stack()\n",
    "        self.redo_stack = Stack()\n",
    "    \n",
    "    def perform_action(self, action):\n",
    "        self.undo_stack.push(action)\n",
    "        self.redo_stack = Stack()  # Clear redo stack when new action is performed\n",
    "    \n",
    "    def undo(self):\n",
    "        if not self.undo_stack.is_empty():\n",
    "            action = self.undo_stack.pop()\n",
    "            self.redo_stack.push(action)\n",
    "            return action\n",
    "        return None\n",
    "    \n",
    "    def redo(self):\n",
    "        if not self.redo_stack.is_empty():\n",
    "            action = self.redo_stack.pop()\n",
    "            self.undo_stack.push(action)\n",
    "            return action\n",
    "        return None\n",
    "\n",
    "# Example usage\n",
    "undo_redo = UndoRedo()\n",
    "undo_redo.perform_action(\"Action 1\")\n",
    "undo_redo.perform_action(\"Action 2\")\n",
    "undo_redo.perform_action(\"Action 3\")\n",
    "\n",
    "print(\"Undo:\", undo_redo.undo())  # Undo last action\n",
    "print(\"Undo:\", undo_redo.undo())  # Undo another action\n",
    "print(\"Redo:\", undo_redo.redo())  # Redo last undone action\n",
    "undo_redo.perform_action(\"Action 4\")  # Performing a new action clears redo history\n",
    "print(\"Redo:\", undo_redo.redo())  # Should return None\n",
    "\n",
    "# Middle element test\n",
    "stack = Stack()\n",
    "stack.push(10)\n",
    "stack.push(20)\n",
    "stack.push(30)\n",
    "stack.push(40)\n",
    "stack.push(50)\n",
    "print(\"Middle Element:\", stack.get_middle())"
   ]
  }
 ],
 "metadata": {
  "kernelspec": {
   "display_name": "Python 3 (ipykernel)",
   "language": "python",
   "name": "python3"
  },
  "language_info": {
   "codemirror_mode": {
    "name": "ipython",
    "version": 3
   },
   "file_extension": ".py",
   "mimetype": "text/x-python",
   "name": "python",
   "nbconvert_exporter": "python",
   "pygments_lexer": "ipython3",
   "version": "3.12.4"
  }
 },
 "nbformat": 4,
 "nbformat_minor": 5
}
