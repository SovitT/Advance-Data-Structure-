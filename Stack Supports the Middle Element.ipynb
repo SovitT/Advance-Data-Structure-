{
 "cells": [
  {
   "cell_type": "markdown",
   "id": "801a1192-fac1-421a-8f7e-5d902fde9d14",
   "metadata": {},
   "source": [
    "# Stack that Supports Getting the Middle Element"
   ]
  },
  {
   "cell_type": "code",
   "execution_count": 3,
   "id": "e3b40bff-82c6-4ee4-992f-6cdd2caf58aa",
   "metadata": {},
   "outputs": [
    {
     "name": "stdout",
     "output_type": "stream",
     "text": [
      "Middle element: 30\n",
      "Middle element after two pops: 20\n"
     ]
    }
   ],
   "source": [
    "class Stack:\n",
    "    def __init__(self):\n",
    "        self.items = []\n",
    "\n",
    "    def push(self, item):\n",
    "        self.items.append(item)\n",
    "\n",
    "    def pop(self):\n",
    "        if not self.is_empty():\n",
    "            return self.items.pop()\n",
    "        return None\n",
    "\n",
    "    def is_empty(self):\n",
    "        return len(self.items) == 0\n",
    "\n",
    "    def get_middle(self):\n",
    "        if self.is_empty():\n",
    "            return None\n",
    "        middle_index = (len(self.items) - 1) // 2  # Lower of two middles if even\n",
    "        return self.items[middle_index]\n",
    "\n",
    "s = Stack()\n",
    "s.push(10)\n",
    "s.push(20)\n",
    "s.push(30)\n",
    "s.push(40)\n",
    "s.push(50)\n",
    "print(\"Middle element:\", s.get_middle())  # Output: 30\n",
    "\n",
    "s.pop()\n",
    "s.pop()\n",
    "print(\"Middle element after two pops:\", s.get_middle())  # Output: 20\n"
   ]
  }
 ],
 "metadata": {
  "kernelspec": {
   "display_name": "Python 3 (ipykernel)",
   "language": "python",
   "name": "python3"
  },
  "language_info": {
   "codemirror_mode": {
    "name": "ipython",
    "version": 3
   },
   "file_extension": ".py",
   "mimetype": "text/x-python",
   "name": "python",
   "nbconvert_exporter": "python",
   "pygments_lexer": "ipython3",
   "version": "3.12.4"
  }
 },
 "nbformat": 4,
 "nbformat_minor": 5
}
