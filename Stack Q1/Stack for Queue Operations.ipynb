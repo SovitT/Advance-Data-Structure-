{
 "cells": [
  {
   "cell_type": "markdown",
   "id": "6ed758bb-aac4-4ee8-ac41-44bff00dec2b",
   "metadata": {},
   "source": [
    "# Implement a Stack for Queue Operations"
   ]
  },
  {
   "cell_type": "code",
   "execution_count": 4,
   "id": "47a3b6d5-8e44-422e-8739-cd4bf62f7fa1",
   "metadata": {},
   "outputs": [
    {
     "name": "stdout",
     "output_type": "stream",
     "text": [
      "Dequeued: 1\n",
      "Dequeued: 2\n",
      "Dequeued: 3\n",
      "Dequeued: 4\n"
     ]
    }
   ],
   "source": [
    "class Stack:\n",
    "    def __init__(self):\n",
    "        self.items = []\n",
    "    \n",
    "    def push(self, item):\n",
    "        self.items.append(item)\n",
    "    \n",
    "    def pop(self):\n",
    "        if not self.is_empty():\n",
    "            return self.items.pop()\n",
    "        return None\n",
    "    \n",
    "    def is_empty(self):\n",
    "        return len(self.items) == 0\n",
    "    \n",
    "    def size(self):\n",
    "        return len(self.items)\n",
    "\n",
    "class QueueUsingStacks:\n",
    "    def __init__(self):\n",
    "        self.stack1 = Stack()\n",
    "        self.stack2 = Stack()\n",
    "    \n",
    "    def enqueue(self, x):\n",
    "        self.stack1.push(x)\n",
    "    \n",
    "    def dequeue(self):\n",
    "        if self.stack2.is_empty():\n",
    "            while not self.stack1.is_empty():\n",
    "                self.stack2.push(self.stack1.pop())\n",
    "        \n",
    "        return self.stack2.pop()\n",
    "\n",
    "# Example usage\n",
    "queue = QueueUsingStacks()\n",
    "queue.enqueue(1)\n",
    "queue.enqueue(2)\n",
    "queue.enqueue(3)\n",
    "print(\"Dequeued:\", queue.dequeue())\n",
    "print(\"Dequeued:\", queue.dequeue())\n",
    "queue.enqueue(4)\n",
    "print(\"Dequeued:\", queue.dequeue())\n",
    "print(\"Dequeued:\", queue.dequeue())\n"
   ]
  }
 ],
 "metadata": {
  "kernelspec": {
   "display_name": "Python 3 (ipykernel)",
   "language": "python",
   "name": "python3"
  },
  "language_info": {
   "codemirror_mode": {
    "name": "ipython",
    "version": 3
   },
   "file_extension": ".py",
   "mimetype": "text/x-python",
   "name": "python",
   "nbconvert_exporter": "python",
   "pygments_lexer": "ipython3",
   "version": "3.12.4"
  }
 },
 "nbformat": 4,
 "nbformat_minor": 5
}
