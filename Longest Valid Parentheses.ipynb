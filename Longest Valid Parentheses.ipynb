{
 "cells": [
  {
   "cell_type": "markdown",
   "id": "a0773ef3-7d58-4b40-b21d-bc1efebb0914",
   "metadata": {},
   "source": [
    "# Longest Valid Parentheses Substring"
   ]
  },
  {
   "cell_type": "code",
   "execution_count": 5,
   "id": "62553d28-cb0f-43c8-96e9-67f87b51d92d",
   "metadata": {},
   "outputs": [
    {
     "name": "stdout",
     "output_type": "stream",
     "text": [
      "2\n",
      "4\n",
      "6\n"
     ]
    }
   ],
   "source": [
    "def longest_valid_parentheses(s):\n",
    "    stack = [-1]  # Base for calculating length\n",
    "    max_length = 0\n",
    "\n",
    "    for i, char in enumerate(s):\n",
    "        if char == '(':\n",
    "            stack.append(i)\n",
    "        else:  # char == ')'\n",
    "            stack.pop()\n",
    "            if not stack:\n",
    "                stack.append(i)  # Reset the base\n",
    "            else:\n",
    "                max_length = max(max_length, i - stack[-1])\n",
    "\n",
    "    return max_length\n",
    "\n",
    "print(longest_valid_parentheses(\"(()\"))       \n",
    "print(longest_valid_parentheses(\")()())\"))    \n",
    "print(longest_valid_parentheses(\"((()))\"))    \n"
   ]
  }
 ],
 "metadata": {
  "kernelspec": {
   "display_name": "Python 3 (ipykernel)",
   "language": "python",
   "name": "python3"
  },
  "language_info": {
   "codemirror_mode": {
    "name": "ipython",
    "version": 3
   },
   "file_extension": ".py",
   "mimetype": "text/x-python",
   "name": "python",
   "nbconvert_exporter": "python",
   "pygments_lexer": "ipython3",
   "version": "3.12.4"
  }
 },
 "nbformat": 4,
 "nbformat_minor": 5
}
