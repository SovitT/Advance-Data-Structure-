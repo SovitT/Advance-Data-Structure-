{
 "cells": [
  {
   "cell_type": "markdown",
   "id": "62dac55b-c5c1-471e-bb7d-33981540e09e",
   "metadata": {},
   "source": [
    "# Reverse a String using a Stack"
   ]
  },
  {
   "cell_type": "code",
   "execution_count": 7,
   "id": "2daac480-32da-4614-89c4-62a977d85d90",
   "metadata": {},
   "outputs": [
    {
     "name": "stdout",
     "output_type": "stream",
     "text": [
      "Original String: hello\n",
      "Reversed String: olleh\n"
     ]
    }
   ],
   "source": [
    "class Stack:\n",
    "    def __init__(self):\n",
    "        self.items = []\n",
    "    \n",
    "    def push(self, item):\n",
    "        self.items.append(item)\n",
    "    \n",
    "    def pop(self):\n",
    "        if not self.is_empty():\n",
    "            return self.items.pop()\n",
    "        return None\n",
    "    \n",
    "    def is_empty(self):\n",
    "        return len(self.items) == 0\n",
    "    \n",
    "    def size(self):\n",
    "        return len(self.items)\n",
    "\n",
    "def reverse_string(s):\n",
    "    stack = Stack()\n",
    "    \n",
    "    for char in s:\n",
    "        stack.push(char)\n",
    "    \n",
    "    reversed_str = \"\"\n",
    "    while not stack.is_empty():\n",
    "        reversed_str += stack.pop()\n",
    "    \n",
    "    return reversed_str\n",
    "\n",
    "input_string = \"hello\"\n",
    "print(\"Original String:\", input_string)\n",
    "print(\"Reversed String:\", reverse_string(input_string))"
   ]
  }
 ],
 "metadata": {
  "kernelspec": {
   "display_name": "Python 3 (ipykernel)",
   "language": "python",
   "name": "python3"
  },
  "language_info": {
   "codemirror_mode": {
    "name": "ipython",
    "version": 3
   },
   "file_extension": ".py",
   "mimetype": "text/x-python",
   "name": "python",
   "nbconvert_exporter": "python",
   "pygments_lexer": "ipython3",
   "version": "3.12.4"
  }
 },
 "nbformat": 4,
 "nbformat_minor": 5
}
