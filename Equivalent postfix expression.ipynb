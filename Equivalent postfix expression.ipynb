{
 "cells": [
  {
   "cell_type": "markdown",
   "id": "398d2ed3-0bdc-48ca-ae86-a0fea0e5fe48",
   "metadata": {},
   "source": [
    "# Convert a prefix expression to its equivalent postfix expression"
   ]
  },
  {
   "cell_type": "code",
   "execution_count": 3,
   "id": "8e4698ef-89b6-4bbc-ad85-8cc3c6ce12a6",
   "metadata": {},
   "outputs": [
    {
     "name": "stdout",
     "output_type": "stream",
     "text": [
      "Postfix expression: ab+c*\n"
     ]
    }
   ],
   "source": [
    "def is_operator(c):\n",
    "    return c in \"+-*/^\"\n",
    "\n",
    "def prefix_to_postfix(prefix):\n",
    "    stack = []\n",
    "\n",
    "    # Scan from right to left\n",
    "    for char in reversed(prefix):\n",
    "        if not is_operator(char):\n",
    "            stack.append(char)\n",
    "        else:\n",
    "            op1 = stack.pop()\n",
    "            op2 = stack.pop()\n",
    "            expr = op1 + op2 + char\n",
    "            stack.append(expr)\n",
    "\n",
    "    return stack[0] if stack else \"\"\n",
    "\n",
    "prefix_expr = \"*+abc\"\n",
    "print(\"Postfix expression:\", prefix_to_postfix(prefix_expr))"
   ]
  }
 ],
 "metadata": {
  "kernelspec": {
   "display_name": "Python 3 (ipykernel)",
   "language": "python",
   "name": "python3"
  },
  "language_info": {
   "codemirror_mode": {
    "name": "ipython",
    "version": 3
   },
   "file_extension": ".py",
   "mimetype": "text/x-python",
   "name": "python",
   "nbconvert_exporter": "python",
   "pygments_lexer": "ipython3",
   "version": "3.12.4"
  }
 },
 "nbformat": 4,
 "nbformat_minor": 5
}
