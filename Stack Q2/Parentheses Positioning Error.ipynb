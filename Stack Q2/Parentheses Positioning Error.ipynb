{
 "cells": [
  {
   "cell_type": "markdown",
   "id": "542066e5-8c67-45a6-acaf-06601a0a63aa",
   "metadata": {},
   "source": [
    "# Parentheses Positioning Error"
   ]
  },
  {
   "cell_type": "code",
   "execution_count": 4,
   "id": "5cc20745-1b0f-4b62-aa77-7c9f4c5e2430",
   "metadata": {},
   "outputs": [
    {
     "name": "stdout",
     "output_type": "stream",
     "text": [
      "0\n",
      "5\n",
      "-1\n"
     ]
    }
   ],
   "source": [
    "def find_mismatched_parenthesis(s):\n",
    "    stack = []\n",
    "    \n",
    "    for i, char in enumerate(s):\n",
    "        if char == '(':\n",
    "            stack.append(i)\n",
    "        elif char == ')':\n",
    "            if stack:\n",
    "                stack.pop()\n",
    "            else:\n",
    "                return i\n",
    "    \n",
    "    if stack:\n",
    "        return stack[0] \n",
    "    return -1  \n",
    "\n",
    "print(find_mismatched_parenthesis(\"((a+b)\"))      \n",
    "print(find_mismatched_parenthesis(\"(a+b))\"))      \n",
    "print(find_mismatched_parenthesis(\"(a+b)*(c-d)\"))  "
   ]
  },
  {
   "cell_type": "code",
   "execution_count": null,
   "id": "33c2e86a-420f-4477-89df-1a8b8606d352",
   "metadata": {},
   "outputs": [],
   "source": []
  }
 ],
 "metadata": {
  "kernelspec": {
   "display_name": "Python 3 (ipykernel)",
   "language": "python",
   "name": "python3"
  },
  "language_info": {
   "codemirror_mode": {
    "name": "ipython",
    "version": 3
   },
   "file_extension": ".py",
   "mimetype": "text/x-python",
   "name": "python",
   "nbconvert_exporter": "python",
   "pygments_lexer": "ipython3",
   "version": "3.12.4"
  }
 },
 "nbformat": 4,
 "nbformat_minor": 5
}
